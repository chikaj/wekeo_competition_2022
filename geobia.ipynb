{
 "cells": [
  {
   "cell_type": "markdown",
   "metadata": {},
   "source": [
    "<img src='https://hospitalityinsights.ehl.edu/hubfs/AdobeStock_308332890.jpeg' align='left' width='75%'/>"
   ]
  },
  {
   "cell_type": "markdown",
   "metadata": {},
   "source": [
    "**Authors:** Nate Currit <br>\n",
    "**Copyright:** 2022 Nate Currit <br>\n",
    "**License:** MIT"
   ]
  },
  {
   "cell_type": "markdown",
   "metadata": {},
   "source": [
    "<div class=\"alert alert-block alert-success\">\n",
    "<h3>Geographic Object-Based Image Analysis (GEOBIA)</h3></div>"
   ]
  },
  {
   "cell_type": "markdown",
   "metadata": {},
   "source": [
    "# INTRODUCTION\n",
    "\n",
    "### Learning outcomes\n",
    "\n",
    "At the end of this notebook you will know;\n",
    "* The steps of GEOBIA image classification\n",
    "* How to perform GEOBIA using open source tools\n",
    "\n",
    "\n",
    "### Outline\n",
    "\n",
    "Here you could describe your notebook, and perhaps include <a href=\"https://notebook.wekeo.eu/\" target=\"_blank\">links</a> to any relevant external content. \n",
    "\n",
    "<div class=\"alert alert-info\" role=\"alert\">\n",
    "\n",
    "## <a id='TOC_TOP'></a>Contents\n",
    "\n",
    "</div>\n",
    "    \n",
    " 1. [Background](#background)\n",
    " 2. [Segmentation](#segmentation)\n",
    " 3. [Attribution](#attribution)\n",
    " 4. [Classification](#classification)\n",
    " 5. [Challenge](#challenge)\n",
    "\n",
    "\n",
    "<hr>"
   ]
  },
  {
   "cell_type": "markdown",
   "metadata": {},
   "source": [
    "<div class=\"alert alert-info\" role=\"alert\">\n",
    "\n",
    "## <a id='background'></a>1. Background\n",
    "[Back to top](#TOC_TOP)\n",
    "\n",
    "</div>"
   ]
  },
  {
   "cell_type": "markdown",
   "metadata": {},
   "source": [
    "## Pixel-based vs Object-based classifications\n",
    "Two broad types of image classification exist: pixel-based and object-based. In **pixel-based** classifications, individual pixels are classified indepently of neighboring pixels. \n",
    "\n",
    "**Object-based** classifications recognize spatial relationships between neighboring pixels.\n",
    "\n",
    "## High resolution vs Low resolution imagery\n",
    "Orbital and sub-orbital imagery has 4 unique kinds of resolution: spatial, spectral, radiometric and temporal. This section focuses on spatial resolution in the context of GEOBIA. \n",
    "\n",
    "A few new terms have been proposed and used: H' high resolution imagery and L' low resolution imagery. Here, high and low spatial resolution are defined by their relation to geographic objects of interest on the ground. H' resolution imagery has pixels that are smaller than objects of interest. That is, there are more than 1 H' pixels per object of interest. L' resolution imagery has 1 or fewer pixels per object of interest\n",
    "\n",
    "## Data for this tutorial\n",
    "#### Data used (example - you can change this to suit your data sets)\n",
    "\n",
    "| Product Description | Data Store collection ID| Product Navigator | WEkEO HDA ID | WEkEO metadata |\n",
    "|:--------------------:|:-----------------------:|:-------------:|:-----------------:|:-----------------:|\n",
    "| Sentinel-3 SLSTR level-1B | EO:EUM:DAT:0411 | <a href=\"https://navigator.eumetsat.int/product/EO:EUM:DAT:SENTINEL-3:SL_1_RBT___NTC?query=SLSTR&s=advanced\" target=\"_blank\">link</a> | EO:EUM:DAT:SENTINEL-3:SL_1_RBT___ | <a href=\"https://www.wekeo.eu/data?view=dataset&dataset=EO%3AEUM%3ADAT%3ASENTINEL-3%3ASL_1_RBT___&initial=1\" target=\"_blank\">link</a> |### Data used (example - you can change this to suit your data sets)"
   ]
  },
  {
   "cell_type": "code",
   "execution_count": 54,
   "metadata": {},
   "outputs": [
    {
     "name": "stdout",
     "output_type": "stream",
     "text": [
      "Band 1 max: 4676.0\n",
      "Shape of Band 1 is (445, 554)\n",
      "Band 2 max: 5280.0\n",
      "Shape of Band 1 is (445, 554)\n",
      "Band 3 max: 5296.0\n",
      "Shape of Band 1 is (445, 554)\n",
      "Band 4 max: 7036.0\n",
      "Shape of Band 1 is (445, 554)\n"
     ]
    }
   ],
   "source": [
    "print(f\"Band 1 max: {image[0].max()}\")\n",
    "print(f\"Shape of Band 1 is {image[0].shape}\")\n",
    "print(f\"Band 2 max: {image[1].max()}\")\n",
    "print(f\"Shape of Band 1 is {image[1].shape}\")\n",
    "print(f\"Band 3 max: {image[2].max()}\")\n",
    "print(f\"Shape of Band 1 is {image[2].shape}\")\n",
    "print(f\"Band 4 max: {image[3].max()}\")\n",
    "print(f\"Shape of Band 1 is {image[3].shape}\")"
   ]
  },
  {
   "cell_type": "code",
   "execution_count": 59,
   "metadata": {},
   "outputs": [
    {
     "data": {
      "text/plain": [
       "(445, 554)"
      ]
     },
     "execution_count": 59,
     "metadata": {},
     "output_type": "execute_result"
    }
   ],
   "source": [
    "(image[0]/image[0].max()).shape"
   ]
  },
  {
   "cell_type": "code",
   "execution_count": 55,
   "metadata": {},
   "outputs": [
    {
     "ename": "TypeError",
     "evalue": "only integer scalar arrays can be converted to a scalar index",
     "output_type": "error",
     "traceback": [
      "\u001b[0;31m---------------------------------------------------------------------------\u001b[0m",
      "\u001b[0;31mTypeError\u001b[0m                                 Traceback (most recent call last)",
      "Input \u001b[0;32mIn [55]\u001b[0m, in \u001b[0;36m<cell line: 1>\u001b[0;34m()\u001b[0m\n\u001b[0;32m----> 1\u001b[0m display \u001b[38;5;241m=\u001b[39m \u001b[43mnp\u001b[49m\u001b[38;5;241;43m.\u001b[39;49m\u001b[43mstack\u001b[49m\u001b[43m(\u001b[49m\u001b[43mimage\u001b[49m\u001b[43m[\u001b[49m\u001b[38;5;241;43m0\u001b[39;49m\u001b[43m]\u001b[49m\u001b[38;5;241;43m/\u001b[39;49m\u001b[43mimage\u001b[49m\u001b[43m[\u001b[49m\u001b[38;5;241;43m0\u001b[39;49m\u001b[43m]\u001b[49m\u001b[38;5;241;43m.\u001b[39;49m\u001b[43mmax\u001b[49m\u001b[43m(\u001b[49m\u001b[43m)\u001b[49m\u001b[43m,\u001b[49m\u001b[43m \u001b[49m\u001b[43mimage\u001b[49m\u001b[43m[\u001b[49m\u001b[38;5;241;43m1\u001b[39;49m\u001b[43m]\u001b[49m\u001b[38;5;241;43m/\u001b[39;49m\u001b[43mimage\u001b[49m\u001b[43m[\u001b[49m\u001b[38;5;241;43m1\u001b[39;49m\u001b[43m]\u001b[49m\u001b[38;5;241;43m.\u001b[39;49m\u001b[43mmax\u001b[49m\u001b[43m(\u001b[49m\u001b[43m)\u001b[49m\u001b[43m,\u001b[49m\u001b[43m \u001b[49m\u001b[43mimage\u001b[49m\u001b[43m[\u001b[49m\u001b[38;5;241;43m2\u001b[39;49m\u001b[43m]\u001b[49m\u001b[38;5;241;43m/\u001b[39;49m\u001b[43mimage\u001b[49m\u001b[43m[\u001b[49m\u001b[38;5;241;43m2\u001b[39;49m\u001b[43m]\u001b[49m\u001b[38;5;241;43m.\u001b[39;49m\u001b[43mmax\u001b[49m\u001b[43m(\u001b[49m\u001b[43m)\u001b[49m\u001b[43m)\u001b[49m\n",
      "File \u001b[0;32m<__array_function__ internals>:180\u001b[0m, in \u001b[0;36mstack\u001b[0;34m(*args, **kwargs)\u001b[0m\n",
      "File \u001b[0;32m~/.cache/pypoetry/virtualenvs/notebook-competition-KIuzUzOD-py3.8/lib/python3.8/site-packages/numpy/core/shape_base.py:429\u001b[0m, in \u001b[0;36mstack\u001b[0;34m(arrays, axis, out)\u001b[0m\n\u001b[1;32m    426\u001b[0m     \u001b[38;5;28;01mraise\u001b[39;00m \u001b[38;5;167;01mValueError\u001b[39;00m(\u001b[38;5;124m'\u001b[39m\u001b[38;5;124mall input arrays must have the same shape\u001b[39m\u001b[38;5;124m'\u001b[39m)\n\u001b[1;32m    428\u001b[0m result_ndim \u001b[38;5;241m=\u001b[39m arrays[\u001b[38;5;241m0\u001b[39m]\u001b[38;5;241m.\u001b[39mndim \u001b[38;5;241m+\u001b[39m \u001b[38;5;241m1\u001b[39m\n\u001b[0;32m--> 429\u001b[0m axis \u001b[38;5;241m=\u001b[39m \u001b[43mnormalize_axis_index\u001b[49m\u001b[43m(\u001b[49m\u001b[43maxis\u001b[49m\u001b[43m,\u001b[49m\u001b[43m \u001b[49m\u001b[43mresult_ndim\u001b[49m\u001b[43m)\u001b[49m\n\u001b[1;32m    431\u001b[0m sl \u001b[38;5;241m=\u001b[39m (\u001b[38;5;28mslice\u001b[39m(\u001b[38;5;28;01mNone\u001b[39;00m),) \u001b[38;5;241m*\u001b[39m axis \u001b[38;5;241m+\u001b[39m (_nx\u001b[38;5;241m.\u001b[39mnewaxis,)\n\u001b[1;32m    432\u001b[0m expanded_arrays \u001b[38;5;241m=\u001b[39m [arr[sl] \u001b[38;5;28;01mfor\u001b[39;00m arr \u001b[38;5;129;01min\u001b[39;00m arrays]\n",
      "\u001b[0;31mTypeError\u001b[0m: only integer scalar arrays can be converted to a scalar index"
     ]
    }
   ],
   "source": [
    "display = np.stack(image[0]/image[0].max(), image[1]/image[1].max(), image[2]/image[2].max())"
   ]
  },
  {
   "cell_type": "code",
   "execution_count": 46,
   "metadata": {},
   "outputs": [
    {
     "name": "stderr",
     "output_type": "stream",
     "text": [
      "Clipping input data to the valid range for imshow with RGB data ([0..1] for floats or [0..255] for integers).\n"
     ]
    },
    {
     "data": {
      "image/png": "[encoded data removed]",
      "text/plain": [
       "<Figure size 432x288 with 1 Axes>"
      ]
     },
     "metadata": {
      "needs_background": "light"
     },
     "output_type": "display_data"
    },
    {
     "data": {
      "text/plain": [
       "<AxesSubplot:>"
      ]
     },
     "execution_count": 46,
     "metadata": {},
     "output_type": "execute_result"
    }
   ],
   "source": [
    "image.max()\n",
    "rasterio.plot.show(image)"
   ]
  },
  {
   "cell_type": "code",
   "execution_count": 42,
   "metadata": {},
   "outputs": [
    {
     "name": "stderr",
     "output_type": "stream",
     "text": [
      "Clipping input data to the valid range for imshow with RGB data ([0..1] for floats or [0..255] for integers).\n"
     ]
    },
    {
     "data": {
      "text/plain": [
       "<AxesSubplot:>"
      ]
     },
     "execution_count": 42,
     "metadata": {},
     "output_type": "execute_result"
    },
    {
     "data": {
      "image/png": "[encoded data removed]",
      "text/plain": [
       "<Figure size 720x720 with 1 Axes>"
      ]
     },
     "metadata": {
      "needs_background": "light"
     },
     "output_type": "display_data"
    }
   ],
   "source": [
    "import matplotlib.pyplot as plt\n",
    "f, ax = plt.subplots(figsize=(10, 10))\n",
    "rasterio.plot.show(image[:3], ax = ax, transform = src.transform)"
   ]
  },
  {
   "cell_type": "markdown",
   "metadata": {},
   "source": [
    "Due to the bands we have selected, and the fact that this is a level-1 product, the image above is quite difficult to interpret. However with some understanding of the synoptic scale and typical patterns of different ocean and atmosphere features, we can see that the TIR bands can reveal variability associated with sea and land surfaces, and clouds/the atmosphere. This is the fundamental basis of how we can use this data for a diverse range of applications."
   ]
  },
  {
   "cell_type": "markdown",
   "metadata": {},
   "source": [
    "<div class=\"alert alert-info\" role=\"alert\">\n",
    "\n",
    "## <a id='segmentation'></a>2. Segmentation\n",
    "[Back to top](#TOC_TOP)\n",
    "\n",
    "</div>"
   ]
  },
  {
   "cell_type": "markdown",
   "metadata": {},
   "source": [
    "Segmentation is what primarily distinguishes GEOBIA from pixel-based classification methods. It is the most critical part of the GEOBIA process.\n",
    "\n",
    "Before running the segmentation code below, we load a few utilities."
   ]
  },
  {
   "cell_type": "code",
   "execution_count": 19,
   "metadata": {},
   "outputs": [],
   "source": [
    "# Runs functions found in an accompanying notebook \n",
    "%run ./functions.ipynb"
   ]
  },
  {
   "cell_type": "markdown",
   "metadata": {},
   "source": [
    "#### Select algorithm and set parameters"
   ]
  },
  {
   "cell_type": "code",
   "execution_count": 34,
   "metadata": {},
   "outputs": [],
   "source": [
    "slic_params = {\n",
    "    'compactness': 0.00001,\n",
    "    'n_segments': 3000,\n",
    "    'slic_zero': True,\n",
    "    'convert2lab': True,\n",
    "    'enforce_connectivity': True\n",
    "}\n",
    "\n",
    "felz_params = {\n",
    "    'scale': 0.0001,\n",
    "    'sigma': 0.7,\n",
    "    'min_size': 10\n",
    "}\n",
    "\n",
    "quickshift_params = {\n",
    "    'channel_axis': 2,\n",
    "    'ratio': 0.009,\n",
    "    'sigma': 1.3,\n",
    "    'convert2lab': True\n",
    "}"
   ]
  },
  {
   "cell_type": "markdown",
   "metadata": {},
   "source": [
    "#### Segment image"
   ]
  },
  {
   "cell_type": "code",
   "execution_count": 21,
   "metadata": {},
   "outputs": [
    {
     "name": "stdout",
     "output_type": "stream",
     "text": [
      "Starting segmentation....done.\n"
     ]
    }
   ],
   "source": [
    "src = rasterio.open(\"data/concise.tif\")\n",
    "\n",
    "image = src.read()\n",
    "\n",
    "print(f\"Starting segmentation.\", end=\"...\")\n",
    "\n",
    "# SLIC\n",
    "# rout = segmentation(model=slic, params=slic_params, image=image[:3])\n",
    "\n",
    "# Quickshift\n",
    "rout = segmentation(model=quickshift, params=quickshift_params, image=image[:3], sieve_size=20)\n",
    "\n",
    "# Felzenszwalb\n",
    "# rout = segmentation(model=felzenszwalb, params=felz_params, image=image[:3], sieve_size=30)\n",
    "\n",
    "print(f\"done.\")"
   ]
  },
  {
   "cell_type": "markdown",
   "metadata": {},
   "source": [
    "#### Vectorize raster segments"
   ]
  },
  {
   "cell_type": "code",
   "execution_count": 22,
   "metadata": {},
   "outputs": [
    {
     "name": "stdout",
     "output_type": "stream",
     "text": [
      "Starting vectorization....done.\n"
     ]
    },
    {
     "name": "stderr",
     "output_type": "stream",
     "text": [
      "/home/nate/.cache/pypoetry/virtualenvs/notebook-competition-KIuzUzOD-py3.8/lib/python3.8/site-packages/pyproj/crs/crs.py:130: FutureWarning: '+init=<authority>:<code>' syntax is deprecated. '<authority>:<code>' is the preferred initialization method. When making the change, be mindful of axis order changes: https://pyproj4.github.io/pyproj/stable/gotchas.html#axis-order-changes-in-proj-6\n",
      "  in_crs_string = _prepare_from_proj_string(in_crs_string)\n"
     ]
    }
   ],
   "source": [
    "print(f\"Starting vectorization.\", end=\"...\")\n",
    "vout = vectorize(image=rout, transform=src.transform,\n",
    "                crs=src.crs.to_proj4())\n",
    "print(f\"done.\")"
   ]
  },
  {
   "cell_type": "code",
   "execution_count": 43,
   "metadata": {},
   "outputs": [
    {
     "name": "stderr",
     "output_type": "stream",
     "text": [
      "Clipping input data to the valid range for imshow with RGB data ([0..1] for floats or [0..255] for integers).\n"
     ]
    },
    {
     "data": {
      "text/plain": [
       "<AxesSubplot:>"
      ]
     },
     "execution_count": 43,
     "metadata": {},
     "output_type": "execute_result"
    },
    {
     "data": {
      "image/png": "[encoded data removed]",
      "text/plain": [
       "<Figure size 720x720 with 1 Axes>"
      ]
     },
     "metadata": {
      "needs_background": "light"
     },
     "output_type": "display_data"
    }
   ],
   "source": [
    "f, ax = plt.subplots(figsize=(10, 10))\n",
    "rasterio.plot.show(image[:3], ax = ax, transform = src.transform)\n",
    "vout.plot(ax = ax)"
   ]
  },
  {
   "cell_type": "markdown",
   "metadata": {},
   "source": [
    "<div class=\"alert alert-info\" role=\"alert\">\n",
    "\n",
    "## <a id='attribution'></a>3. Attribution\n",
    "[Back to top](#TOC_TOP)\n",
    "\n",
    "</div>"
   ]
  },
  {
   "cell_type": "markdown",
   "metadata": {},
   "source": [
    "Segment attributes generally fall into 3 categories, spectral, shape and texture.\n",
    "\n",
    "#### Spectral\n",
    "Spectral attributes are zonal statistics of the original spectral image bands based on the segments derived above. For example, the average blue, green, red and near infrared pixels values of each segment are recorded as unique fields in the vector segments file. \n",
    "\n",
    "#### Shape\n",
    "Geographic objects in a region may have unique shapes, depending on the resolution characteristics of the imagery. For example, tree crowns may be round, homes may be square, lakes may be elongated, etc. Depending on the objects visible in the imagery and the shape of the segments derived from the previous steps, an analyst can choose from a variety of shape parameters.\n",
    "\n",
    "#### Texture\n",
    "A whole range of texture measures"
   ]
  },
  {
   "cell_type": "markdown",
   "metadata": {},
   "source": [
    "### Spectral attributes"
   ]
  },
  {
   "cell_type": "code",
   "execution_count": 25,
   "metadata": {},
   "outputs": [
    {
     "name": "stdout",
     "output_type": "stream",
     "text": [
      "Starting add zonal spectral properties....done.\n"
     ]
    }
   ],
   "source": [
    "print(f\"Starting add zonal spectral properties.\", end=\"...\")\n",
    "vout = add_zonal_properties(image=image, transform=src.transform, \n",
    "                            band_names=['blue', 'green', 'red', 'nir'],\n",
    "                            gdf=vout)\n",
    "print(f\"done.\")"
   ]
  },
  {
   "cell_type": "markdown",
   "metadata": {},
   "source": [
    "### Shape attributes"
   ]
  },
  {
   "cell_type": "code",
   "execution_count": 26,
   "metadata": {},
   "outputs": [
    {
     "name": "stdout",
     "output_type": "stream",
     "text": [
      "Starting add shape properties....done.\n"
     ]
    }
   ],
   "source": [
    "print(f\"Starting add shape properties.\", end=\"...\")\n",
    "vout = add_shape_properties(rout, vout, ['area', 'perimeter',\n",
    "                                        'eccentricity', \n",
    "                                        'equivalent_diameter',\n",
    "                                        'major_axis_length',\n",
    "                                        'minor_axis_length',\n",
    "                                        'orientation'])\n",
    "print(f\"done.\")"
   ]
  },
  {
   "cell_type": "markdown",
   "metadata": {},
   "source": [
    "### Texture attributes"
   ]
  },
  {
   "cell_type": "code",
   "execution_count": 27,
   "metadata": {},
   "outputs": [
    {
     "name": "stdout",
     "output_type": "stream",
     "text": [
      "Starting edge detection....done.\n",
      "Starting add zonal texture properties....done.\n"
     ]
    }
   ],
   "source": [
    "print(f\"Starting edge detection.\", end=\"...\")\n",
    "edges = sobel_edge_detect(image[3])\n",
    "print(f\"done.\")\n",
    "\n",
    "print(f\"Starting add zonal texture properties.\", end=\"...\")\n",
    "vout = add_zonal_properties(image=edges, band_names=['edges'],\n",
    "                            stats=['mean', 'std'],\n",
    "                            transform=src.transform, gdf=vout)\n",
    "print(f\"done.\")\n",
    "\n",
    "vout.to_file(\"./segmentation.gpkg\", layer=\"ss1000\", driver=\"GPKG\")"
   ]
  },
  {
   "cell_type": "code",
   "execution_count": 33,
   "metadata": {},
   "outputs": [
    {
     "data": {
      "text/html": [
       "<div>\n",
       "<style scoped>\n",
       "    .dataframe tbody tr th:only-of-type {\n",
       "        vertical-align: middle;\n",
       "    }\n",
       "\n",
       "    .dataframe tbody tr th {\n",
       "        vertical-align: top;\n",
       "    }\n",
       "\n",
       "    .dataframe thead th {\n",
       "        text-align: right;\n",
       "    }\n",
       "</style>\n",
       "<table border=\"1\" class=\"dataframe\">\n",
       "  <thead>\n",
       "    <tr style=\"text-align: right;\">\n",
       "      <th></th>\n",
       "      <th>geometry</th>\n",
       "      <th>nir_mean</th>\n",
       "      <th>area</th>\n",
       "      <th>perimeter</th>\n",
       "      <th>eccentricity</th>\n",
       "      <th>equivalent_diameter</th>\n",
       "      <th>major_axis_length</th>\n",
       "      <th>minor_axis_length</th>\n",
       "      <th>orientation</th>\n",
       "      <th>edges_mean</th>\n",
       "      <th>edges_std</th>\n",
       "      <th>dn</th>\n",
       "    </tr>\n",
       "  </thead>\n",
       "  <tbody>\n",
       "    <tr>\n",
       "      <th>0</th>\n",
       "      <td>POLYGON ((326370.000 5194500.000, 326370.000 5...</td>\n",
       "      <td>4798.100</td>\n",
       "      <td>2000.0</td>\n",
       "      <td>220.0</td>\n",
       "      <td>0.792700</td>\n",
       "      <td>5.046265</td>\n",
       "      <td>6.777232</td>\n",
       "      <td>4.131480</td>\n",
       "      <td>0.907887</td>\n",
       "      <td>353.961768</td>\n",
       "      <td>178.672359</td>\n",
       "      <td>6</td>\n",
       "    </tr>\n",
       "    <tr>\n",
       "      <th>1</th>\n",
       "      <td>POLYGON ((328440.000 5194500.000, 328440.000 5...</td>\n",
       "      <td>4068.375</td>\n",
       "      <td>2400.0</td>\n",
       "      <td>280.0</td>\n",
       "      <td>0.963649</td>\n",
       "      <td>8.667245</td>\n",
       "      <td>26.553137</td>\n",
       "      <td>7.094198</td>\n",
       "      <td>-1.457752</td>\n",
       "      <td>292.969727</td>\n",
       "      <td>163.057292</td>\n",
       "      <td>2</td>\n",
       "    </tr>\n",
       "    <tr>\n",
       "      <th>2</th>\n",
       "      <td>POLYGON ((328630.000 5194500.000, 328630.000 5...</td>\n",
       "      <td>3885.000</td>\n",
       "      <td>100.0</td>\n",
       "      <td>40.0</td>\n",
       "      <td>0.000000</td>\n",
       "      <td>1.128379</td>\n",
       "      <td>0.000000</td>\n",
       "      <td>0.000000</td>\n",
       "      <td>0.785398</td>\n",
       "      <td>616.840759</td>\n",
       "      <td>0.000000</td>\n",
       "      <td>25</td>\n",
       "    </tr>\n",
       "    <tr>\n",
       "      <th>3</th>\n",
       "      <td>POLYGON ((328640.000 5194500.000, 328640.000 5...</td>\n",
       "      <td>4314.000</td>\n",
       "      <td>300.0</td>\n",
       "      <td>80.0</td>\n",
       "      <td>0.689903</td>\n",
       "      <td>11.617375</td>\n",
       "      <td>15.678748</td>\n",
       "      <td>11.349881</td>\n",
       "      <td>1.194258</td>\n",
       "      <td>533.086833</td>\n",
       "      <td>209.634377</td>\n",
       "      <td>38</td>\n",
       "    </tr>\n",
       "    <tr>\n",
       "      <th>4</th>\n",
       "      <td>POLYGON ((328650.000 5194500.000, 328650.000 5...</td>\n",
       "      <td>4321.000</td>\n",
       "      <td>100.0</td>\n",
       "      <td>40.0</td>\n",
       "      <td>1.000000</td>\n",
       "      <td>1.595769</td>\n",
       "      <td>2.828427</td>\n",
       "      <td>0.000000</td>\n",
       "      <td>-0.785398</td>\n",
       "      <td>195.587906</td>\n",
       "      <td>0.000000</td>\n",
       "      <td>28</td>\n",
       "    </tr>\n",
       "  </tbody>\n",
       "</table>\n",
       "</div>"
      ],
      "text/plain": [
       "                                            geometry  nir_mean    area  \\\n",
       "0  POLYGON ((326370.000 5194500.000, 326370.000 5...  4798.100  2000.0   \n",
       "1  POLYGON ((328440.000 5194500.000, 328440.000 5...  4068.375  2400.0   \n",
       "2  POLYGON ((328630.000 5194500.000, 328630.000 5...  3885.000   100.0   \n",
       "3  POLYGON ((328640.000 5194500.000, 328640.000 5...  4314.000   300.0   \n",
       "4  POLYGON ((328650.000 5194500.000, 328650.000 5...  4321.000   100.0   \n",
       "\n",
       "   perimeter  eccentricity  equivalent_diameter  major_axis_length  \\\n",
       "0      220.0      0.792700             5.046265           6.777232   \n",
       "1      280.0      0.963649             8.667245          26.553137   \n",
       "2       40.0      0.000000             1.128379           0.000000   \n",
       "3       80.0      0.689903            11.617375          15.678748   \n",
       "4       40.0      1.000000             1.595769           2.828427   \n",
       "\n",
       "   minor_axis_length  orientation  edges_mean   edges_std  dn  \n",
       "0           4.131480     0.907887  353.961768  178.672359   6  \n",
       "1           7.094198    -1.457752  292.969727  163.057292   2  \n",
       "2           0.000000     0.785398  616.840759    0.000000  25  \n",
       "3          11.349881     1.194258  533.086833  209.634377  38  \n",
       "4           0.000000    -0.785398  195.587906    0.000000  28  "
      ]
     },
     "execution_count": 33,
     "metadata": {},
     "output_type": "execute_result"
    }
   ],
   "source": [
    "vout.head()"
   ]
  },
  {
   "cell_type": "markdown",
   "metadata": {},
   "source": [
    "<div class=\"alert alert-info\" role=\"alert\">\n",
    "\n",
    "## <a id='classification'></a>4. Classification\n",
    "[Back to top](#TOC_TOP)\n",
    "\n",
    "</div>"
   ]
  },
  {
   "cell_type": "markdown",
   "metadata": {},
   "source": [
    "## Classification algorithms\n",
    "Your classification algorithm options are broad.\n",
    "\n",
    "This tutorial selects RandomForests to classify the segments based on their attributes."
   ]
  },
  {
   "cell_type": "code",
   "execution_count": 7,
   "metadata": {},
   "outputs": [],
   "source": [
    "## Classification code here"
   ]
  },
  {
   "cell_type": "markdown",
   "metadata": {},
   "source": [
    "<div class=\"alert alert-danger\" role=\"alert\">\n",
    "\n",
    "## <a id='challenge'></a>Challenge.\n",
    "[Back to top](#TOC_TOP)\n",
    "\n",
    "</div>"
   ]
  },
  {
   "cell_type": "markdown",
   "metadata": {},
   "source": [
    "<div class=\"alert alert-block alert-warning\">\n",
    "\n",
    "### Challenge:\n",
    "\n",
    "A final section of your notebook could invite the user to try and adapt your notebook for their own purposes. This is not necessary but can really help people to learn by applying their new knowled\n",
    " <div>"
   ]
  },
  {
   "cell_type": "code",
   "execution_count": 9,
   "metadata": {},
   "outputs": [
    {
     "name": "stdout",
     "output_type": "stream",
     "text": [
      "Starting segmentation....done.\n",
      "Starting vectorization....done.\n",
      "Starting add zonal spectral properties...."
     ]
    },
    {
     "name": "stderr",
     "output_type": "stream",
     "text": [
      "/home/nate/.cache/pypoetry/virtualenvs/notebook-competition-KIuzUzOD-py3.8/lib/python3.8/site-packages/pyproj/crs/crs.py:130: FutureWarning: '+init=<authority>:<code>' syntax is deprecated. '<authority>:<code>' is the preferred initialization method. When making the change, be mindful of axis order changes: https://pyproj4.github.io/pyproj/stable/gotchas.html#axis-order-changes-in-proj-6\n",
      "  in_crs_string = _prepare_from_proj_string(in_crs_string)\n"
     ]
    },
    {
     "name": "stdout",
     "output_type": "stream",
     "text": [
      "done.\n",
      "Starting add shape properties....done.\n",
      "Starting edge detection....done.\n",
      "Starting add zonal texture properties....done.\n",
      "\n",
      "All done!!\n"
     ]
    }
   ],
   "source": [
    "# with rasterio.open(\"data/concise.tif\") as src:\n",
    "#     slic_params = {\n",
    "#         'compactness': 0.00001,\n",
    "#         'n_segments': 3000,\n",
    "#         'slic_zero': True,\n",
    "#         'convert2lab': True,\n",
    "#         'enforce_connectivity': True\n",
    "#     }\n",
    "\n",
    "#     felz_params = {\n",
    "#         'scale': 0.0001,\n",
    "#         'sigma': 0.7,\n",
    "#         'min_size': 10\n",
    "#     }\n",
    "    \n",
    "#     # Works pretty good\n",
    "#     quickshift_params = {\n",
    "#         'channel_axis': 2,\n",
    "#         'ratio': 0.009,\n",
    "#         'sigma': 1.3,\n",
    "#         'convert2lab': True\n",
    "#     }\n",
    "\n",
    "#     image = src.read()\n",
    "\n",
    "#     print(f\"Starting segmentation.\", end=\"...\")\n",
    "    \n",
    "#     # SLIC\n",
    "#     # rout = segmentation(model=slic, params=slic_params, image=image[:3])\n",
    "    \n",
    "#     # Quickshift\n",
    "#     rout = segmentation(model=quickshift, params=quickshift_params, image=image[:3], sieve_size=20)\n",
    "    \n",
    "#     # Felzenszwalb\n",
    "#     # rout = segmentation(model=felzenszwalb, params=felz_params, image=image[:3], sieve_size=30)\n",
    "    \n",
    "#     print(f\"done.\")\n",
    "    \n",
    "#     print(f\"Starting vectorization.\", end=\"...\")\n",
    "#     vout = vectorize(image=rout, transform=src.transform,\n",
    "#                     crs=src.crs.to_proj4())\n",
    "#     print(f\"done.\")\n",
    "    \n",
    "#     print(f\"Starting add zonal spectral properties.\", end=\"...\")\n",
    "#     vout = add_zonal_properties(image=image, transform=src.transform, \n",
    "#                                 band_names=['blue', 'green', 'red', 'nir'],\n",
    "#                                 gdf=vout)\n",
    "#     print(f\"done.\")\n",
    "    \n",
    "#     print(f\"Starting add shape properties.\", end=\"...\")\n",
    "#     vout = add_shape_properties(rout, vout, ['area', 'perimeter',\n",
    "#                                             'eccentricity', \n",
    "#                                             'equivalent_diameter',\n",
    "#                                             'major_axis_length',\n",
    "#                                             'minor_axis_length',\n",
    "#                                             'orientation'])\n",
    "#     print(f\"done.\")\n",
    "    \n",
    "#     print(f\"Starting edge detection.\", end=\"...\")\n",
    "#     edges = sobel_edge_detect(image[3])\n",
    "#     print(f\"done.\")\n",
    "    \n",
    "#     print(f\"Starting add zonal texture properties.\", end=\"...\")\n",
    "#     vout = add_zonal_properties(image=edges, band_names=['edges'],\n",
    "#                                 stats=['mean', 'std'],\n",
    "#                                 transform=src.transform, gdf=vout)\n",
    "#     print(f\"done.\")\n",
    "    \n",
    "#     vout.to_file(\"./segmentation.gpkg\", layer=\"ss1000\", driver=\"GPKG\")\n",
    "    \n",
    "#     print(\"\\nAll done!!\")"
   ]
  },
  {
   "cell_type": "code",
   "execution_count": null,
   "metadata": {},
   "outputs": [],
   "source": []
  }
 ],
 "metadata": {
  "kernelspec": {
   "display_name": "geobia",
   "language": "python",
   "name": "geobia"
  },
  "language_info": {
   "codemirror_mode": {
    "name": "ipython",
    "version": 3
   },
   "file_extension": ".py",
   "mimetype": "text/x-python",
   "name": "python",
   "nbconvert_exporter": "python",
   "pygments_lexer": "ipython3",
   "version": "3.8.12"
  }
 },
 "nbformat": 4,
 "nbformat_minor": 4
}
